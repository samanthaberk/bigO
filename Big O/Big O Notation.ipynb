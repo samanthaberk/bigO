{
 "cells": [
  {
   "cell_type": "markdown",
   "metadata": {},
   "source": [
    "# Big O Notation"
   ]
  },
  {
   "cell_type": "markdown",
   "metadata": {},
   "source": [
    "## Key Take-Aways\n",
    "\n",
    "***tldr;*** *Big O Notation is the way we describe how __efficient__ an algorithm is in terms of how much __time__ it takes to run and how much __space__ (in memory or on disk) it uses, relative to its input*\n",
    "\n",
    "**1. Why express runtime and memory use in terms of Big O?**\n",
    "\n",
    "It's hard to say in certain terms the *exact* time or space an algorithm takes up, because this is subject to many variables like the speed of your processor, other programs the machine might be running, etc. So Big O notation is the \"good enough\" way we can describe an algorithm's efficiency by looking at how quickly the runtime and space used grows relative to the size of the input.\n",
    "\n",
    "**2. How do we describe time and space \"relative to input\"?**\n",
    "\n",
    "Since we don't measure runtime and space directly, we can't express the speed in seconds or space in MB. Instead, we use the input the algorithm accepts, and describe as the input gets larger, how quickly the algorithm will grow. If the size of the input increases, will it take longer to run? Will it take up more space? How much more time/space will the algorithm need as the input increases? \n",
    "\n",
    "**3. Can't this get really complicated if the algorithm has a lot of steps?** \n",
    "\n",
    "Not necessarily. For big O analysis, we only really need to look at which parts of the algorithm will grow the fastest. So if you can pinpoint part of the algorthim that will grow the most as the input increases, you don't even have to look at other parts."
   ]
  },
  {
   "cell_type": "markdown",
   "metadata": {},
   "source": [
    "## Some Examples:"
   ]
  },
  {
   "cell_type": "markdown",
   "metadata": {},
   "source": [
    "### Example 1:\n",
    "Take a look at the algorithm below and try to answer these questions: \n",
    "* What is the algorithm's input? \n",
    "* If you were to explain the algorithm to someone as a process, how many steps there be?\n",
    "* How big is the input? If we were to increase the size of it, would that affect the runtime or space used?"
   ]
  },
  {
   "cell_type": "code",
   "execution_count": 12,
   "metadata": {},
   "outputs": [
    {
     "name": "stdout",
     "output_type": "stream",
     "text": [
      "1\n"
     ]
    }
   ],
   "source": [
    "public void printFirstItem(int[] items) {\n",
    "    System.out.println(items[0]);\n",
    "}\n",
    "\n",
    "int[] arr = new int[]{1, 2};\n",
    "printFirstItem(arr);"
   ]
  },
  {
   "cell_type": "markdown",
   "metadata": {},
   "source": [
    "The input in this algorithm is an array of ints, and there's really only one step to this algorithm: Print the first int in the array. Whether the input array is 1 item or 1,000 items doesn't matter, it will always require just 1 step. \n",
    "\n",
    "When the input size doesn't affect the number of required operations, we say that the algorithm runs in **O(1) time** or **\"constant time\"** relative to its input. \n",
    "\n",
    "An algorithm in constant time is considered to be very good, because no matter how much your input scales up the time it takes to run will not change."
   ]
  },
  {
   "cell_type": "markdown",
   "metadata": {},
   "source": [
    "### Example 2:\n",
    "Look at the algorithm below and answer the same questions as before. "
   ]
  },
  {
   "cell_type": "code",
   "execution_count": 2,
   "metadata": {},
   "outputs": [],
   "source": [
    "public static void printAllItems(int[] items) {\n",
    "    for (int item : items) {\n",
    "        System.out.println(item);\n",
    "    }\n",
    "}"
   ]
  },
  {
   "cell_type": "markdown",
   "metadata": {},
   "source": [
    "In this example, for every item in the input array the algorithm will print that item. The number of \"steps\" depends on how many items are in the array. If the array only has 1 item, it will perform the print command 1 time. If there's 1,000 items, it will need to print 1,000 times. \n",
    "\n",
    "When the input is directly proportional to the growth in run time, we say that the algorithm runs in **O(n) time** or  **\"linear time\"**. The *n* represents the number of items in the array. If the array has 10 items, we have to print 10 times. If it has 1,000 items, we have to print 1,000 times.\n",
    "\n",
    "An algorithm in linear time is not as efficient as constant time, but in general it's still considered to be pretty good."
   ]
  },
  {
   "cell_type": "markdown",
   "metadata": {},
   "source": [
    "### Example 3:\n",
    "Same as above with the algorithm below."
   ]
  },
  {
   "cell_type": "code",
   "execution_count": 4,
   "metadata": {},
   "outputs": [],
   "source": [
    "public static void printAllPossibleOrderedPairs(int[] items) {\n",
    "    for (int firstItem : items) {\n",
    "        for (int secondItem : items) {\n",
    "            System.out.println(firstItem + \", \" + secondItem);\n",
    "        }\n",
    "    }\n",
    "}"
   ]
  },
  {
   "cell_type": "markdown",
   "metadata": {},
   "source": [
    "Here we have 2 nested loops. If the input array has *n* items, the outer loop will run *n* times and for each iteration of the outer loop, the inner loop will also run *n* times. If the actual value of *n* is 10, then the method will need to print 100 times. \n",
    "\n",
    "When you see 2 nested loops, you can calculate the total steps as *n* * *n* = n^2n. In this case, we say that the algorithm runs in **O(n^2) time** or **\"quadratic time\"**.\n",
    "\n",
    "What if the input array is increased to 100 items? The method will need to print 1,000,000 times! As you can see, an algorithm that grows exponentially like this can quickly get out of hand if the input grows too big. So whenever possible, we want to optimize for linear or constant time over quadratic time. \n",
    "\n",
    "*Bonus: If two nested loops is O(n^2) (quadratic time), can you predict what three nested loops would be? Four nested loops?*"
   ]
  },
  {
   "cell_type": "code",
   "execution_count": null,
   "metadata": {},
   "outputs": [],
   "source": []
  }
 ],
 "metadata": {
  "kernelspec": {
   "display_name": "Java",
   "language": "java",
   "name": "java"
  },
  "language_info": {
   "codemirror_mode": "java",
   "file_extension": ".jshell",
   "mimetype": "text/x-java-source",
   "name": "Java",
   "pygments_lexer": "java",
   "version": "11.0.7+10"
  }
 },
 "nbformat": 4,
 "nbformat_minor": 2
}
